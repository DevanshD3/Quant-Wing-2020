{
  "nbformat": 4,
  "nbformat_minor": 0,
  "metadata": {
    "colab": {
      "name": "Algo Trading assignment",
      "provenance": [],
      "authorship_tag": "ABX9TyPEImPGf51A4pZX9tsjkiud",
      "include_colab_link": true
    },
    "kernelspec": {
      "name": "python3",
      "display_name": "Python 3"
    }
  },
  "cells": [
    {
      "cell_type": "markdown",
      "metadata": {
        "id": "view-in-github",
        "colab_type": "text"
      },
      "source": [
        "<a href=\"https://colab.research.google.com/github/DevanshD3/Quant-Wing-2020/blob/master/Simple%20Trading%20Strategy.ipynb\" target=\"_parent\"><img src=\"https://colab.research.google.com/assets/colab-badge.svg\" alt=\"Open In Colab\"/></a>"
      ]
    },
    {
      "cell_type": "code",
      "metadata": {
        "id": "sJ3xGfGSBp4E",
        "colab_type": "code",
        "colab": {
          "base_uri": "https://localhost:8080/",
          "height": 72
        },
        "outputId": "93bc64fc-734f-4abb-854d-81eadb278fea"
      },
      "source": [
        "import datetime as dt\n",
        "import matplotlib.pyplot as plt\n",
        "from matplotlib import style\n",
        "import pandas as pd\n",
        "import pandas_datareader.data as data\n",
        "import numpy as np\n"
      ],
      "execution_count": null,
      "outputs": [
        {
          "output_type": "stream",
          "text": [
            "/usr/local/lib/python3.6/dist-packages/pandas_datareader/compat/__init__.py:7: FutureWarning: pandas.util.testing is deprecated. Use the functions in the public API at pandas.testing instead.\n",
            "  from pandas.util.testing import assert_frame_equal\n"
          ],
          "name": "stderr"
        }
      ]
    },
    {
      "cell_type": "code",
      "metadata": {
        "id": "dlpqwdasvytk",
        "colab_type": "code",
        "colab": {}
      },
      "source": [
        "# style.use('ggplot')\n",
        "# start = dt.datetime(2020,6,1)\n",
        "# end = dt.datetime(2020,6,12)\n",
        "\n",
        "# df = web.DataReader('YESBANK.NS', 'yahoo', start , end )\n",
        "# df"
      ],
      "execution_count": null,
      "outputs": []
    },
    {
      "cell_type": "markdown",
      "metadata": {
        "id": "9agfQ4GkSiNU",
        "colab_type": "text"
      },
      "source": [
        "Strategy used : If RSI is less than 30 then buy , more than 70 toh sell and if in between toh hold.\n",
        "(I am learning ways to implement ML models toh wo baad mein daal dunga improve karne ke liye)"
      ]
    },
    {
      "cell_type": "code",
      "metadata": {
        "id": "80GKPfHaooRc",
        "colab_type": "code",
        "colab": {
          "base_uri": "https://localhost:8080/",
          "height": 706
        },
        "outputId": "970f9b16-4fa0-4263-dc03-0e673180e4dc"
      },
      "source": [
        "portfolio = 1000 #this is the initial money that we have with us\n",
        "# start = dt.datetime(2020,1,1) ##yyyy,mm,dd\n",
        "# end = dt.datetime(2020,7,7)\n",
        "days = 750\n",
        "\n",
        "# this is the period for we are checking  out strategy\n",
        "stock_list = ['RELIANCE.NS']\n",
        "prices=read_data(stock_list, days)\n",
        "print(prices)\n",
        "# days = len(prices)\n",
        "# len(prices.tail(days-14).index)\n",
        "nav = pd.DataFrame(index = prices.tail(days-14).index) #accountbook for transactions XD and rsi works for 14 days so we start trading from 22jan\n",
        "nav = nav.assign(leftover = np.zeros(days-14), stock = np.zeros(days-14))\n",
        "nav.iloc[0,0] = portfolio\n",
        "nav\n"
      ],
      "execution_count": 37,
      "outputs": [
        {
          "output_type": "stream",
          "text": [
            "            RELIANCE.NS\n",
            "Date                   \n",
            "2010-01-04   457.306488\n",
            "2010-01-05   455.265503\n",
            "2010-01-06   462.621460\n",
            "2010-01-07   470.296417\n",
            "2010-01-08   469.063354\n",
            "...                 ...\n",
            "2013-01-07   384.839020\n",
            "2013-01-08   382.165985\n",
            "2013-01-09   383.086975\n",
            "2013-01-10   381.896393\n",
            "2013-01-11   377.336395\n",
            "\n",
            "[750 rows x 1 columns]\n"
          ],
          "name": "stdout"
        },
        {
          "output_type": "execute_result",
          "data": {
            "text/html": [
              "<div>\n",
              "<style scoped>\n",
              "    .dataframe tbody tr th:only-of-type {\n",
              "        vertical-align: middle;\n",
              "    }\n",
              "\n",
              "    .dataframe tbody tr th {\n",
              "        vertical-align: top;\n",
              "    }\n",
              "\n",
              "    .dataframe thead th {\n",
              "        text-align: right;\n",
              "    }\n",
              "</style>\n",
              "<table border=\"1\" class=\"dataframe\">\n",
              "  <thead>\n",
              "    <tr style=\"text-align: right;\">\n",
              "      <th></th>\n",
              "      <th>leftover</th>\n",
              "      <th>stock</th>\n",
              "    </tr>\n",
              "    <tr>\n",
              "      <th>Date</th>\n",
              "      <th></th>\n",
              "      <th></th>\n",
              "    </tr>\n",
              "  </thead>\n",
              "  <tbody>\n",
              "    <tr>\n",
              "      <th>2010-01-22</th>\n",
              "      <td>1000.0</td>\n",
              "      <td>0.0</td>\n",
              "    </tr>\n",
              "    <tr>\n",
              "      <th>2010-01-25</th>\n",
              "      <td>0.0</td>\n",
              "      <td>0.0</td>\n",
              "    </tr>\n",
              "    <tr>\n",
              "      <th>2010-01-27</th>\n",
              "      <td>0.0</td>\n",
              "      <td>0.0</td>\n",
              "    </tr>\n",
              "    <tr>\n",
              "      <th>2010-01-28</th>\n",
              "      <td>0.0</td>\n",
              "      <td>0.0</td>\n",
              "    </tr>\n",
              "    <tr>\n",
              "      <th>2010-01-29</th>\n",
              "      <td>0.0</td>\n",
              "      <td>0.0</td>\n",
              "    </tr>\n",
              "    <tr>\n",
              "      <th>...</th>\n",
              "      <td>...</td>\n",
              "      <td>...</td>\n",
              "    </tr>\n",
              "    <tr>\n",
              "      <th>2013-01-07</th>\n",
              "      <td>0.0</td>\n",
              "      <td>0.0</td>\n",
              "    </tr>\n",
              "    <tr>\n",
              "      <th>2013-01-08</th>\n",
              "      <td>0.0</td>\n",
              "      <td>0.0</td>\n",
              "    </tr>\n",
              "    <tr>\n",
              "      <th>2013-01-09</th>\n",
              "      <td>0.0</td>\n",
              "      <td>0.0</td>\n",
              "    </tr>\n",
              "    <tr>\n",
              "      <th>2013-01-10</th>\n",
              "      <td>0.0</td>\n",
              "      <td>0.0</td>\n",
              "    </tr>\n",
              "    <tr>\n",
              "      <th>2013-01-11</th>\n",
              "      <td>0.0</td>\n",
              "      <td>0.0</td>\n",
              "    </tr>\n",
              "  </tbody>\n",
              "</table>\n",
              "<p>736 rows × 2 columns</p>\n",
              "</div>"
            ],
            "text/plain": [
              "            leftover  stock\n",
              "Date                       \n",
              "2010-01-22    1000.0    0.0\n",
              "2010-01-25       0.0    0.0\n",
              "2010-01-27       0.0    0.0\n",
              "2010-01-28       0.0    0.0\n",
              "2010-01-29       0.0    0.0\n",
              "...              ...    ...\n",
              "2013-01-07       0.0    0.0\n",
              "2013-01-08       0.0    0.0\n",
              "2013-01-09       0.0    0.0\n",
              "2013-01-10       0.0    0.0\n",
              "2013-01-11       0.0    0.0\n",
              "\n",
              "[736 rows x 2 columns]"
            ]
          },
          "metadata": {
            "tags": []
          },
          "execution_count": 37
        }
      ]
    },
    {
      "cell_type": "code",
      "metadata": {
        "id": "lvp_5VPtplKA",
        "colab_type": "code",
        "colab": {}
      },
      "source": [
        "signal = 0 #this shows the current signal\n",
        "prev_signal = 0 #this shows yesterday's signal\n",
        "for index, row in nav.iloc[1:].iterrows():\n",
        "  signal = np.sign(signal + RSI(prices.loc[:index].tail(14)))\n",
        "  leftover = nav.loc[:index].tail(2).head(1).iloc[0,0]\n",
        "\n",
        "  if(signal == -1):\n",
        "    nav.loc[index, 'leftover'] = leftover\n",
        "    nav.loc[index, 'stock'] = 0\n",
        "    continue\n",
        "\n",
        "  if(prev_signal == 0 and signal == 1):\n",
        "    #BUY\n",
        "    nav.loc[index, 'leftover'] = leftover -  prices.loc[index][0]\n",
        "    nav.loc[index, 'stock'] = prices.loc[index][0]\n",
        "\n",
        "  if(prev_signal == 1 and signal == 1):\n",
        "    #HOLD   you can also ask the algorithm to buy more stocks but since you don't have money so you need to hold\n",
        "    nav.loc[index, 'leftover'] = leftover\n",
        "    nav.loc[index, 'stock'] = prices.loc[index][0]\n",
        "  \n",
        "  if(prev_signal == 1 and signal == 0):\n",
        "    #SELL\n",
        "    nav.loc[index, 'leftover'] = leftover +  prices.loc[index][0]\n",
        "    nav.loc[index, 'stock'] = 0\n",
        "\n",
        "  if(prev_signal == 0 and signal == 0):\n",
        "    #WAIT\n",
        "    nav.loc[index, 'leftover'] = leftover\n",
        "    nav.loc[index, 'stock'] = 0\n",
        "  \n",
        "  prev_signal = signal"
      ],
      "execution_count": 41,
      "outputs": []
    },
    {
      "cell_type": "code",
      "metadata": {
        "id": "-XZpW5Y-PsH6",
        "colab_type": "code",
        "colab": {
          "base_uri": "https://localhost:8080/",
          "height": 446
        },
        "outputId": "6ed42b2c-eafa-4590-fe77-af336f9e8b58"
      },
      "source": [
        "nav\n",
        "#we made a net profit of 128 rupees"
      ],
      "execution_count": 42,
      "outputs": [
        {
          "output_type": "execute_result",
          "data": {
            "text/html": [
              "<div>\n",
              "<style scoped>\n",
              "    .dataframe tbody tr th:only-of-type {\n",
              "        vertical-align: middle;\n",
              "    }\n",
              "\n",
              "    .dataframe tbody tr th {\n",
              "        vertical-align: top;\n",
              "    }\n",
              "\n",
              "    .dataframe thead th {\n",
              "        text-align: right;\n",
              "    }\n",
              "</style>\n",
              "<table border=\"1\" class=\"dataframe\">\n",
              "  <thead>\n",
              "    <tr style=\"text-align: right;\">\n",
              "      <th></th>\n",
              "      <th>leftover</th>\n",
              "      <th>stock</th>\n",
              "    </tr>\n",
              "    <tr>\n",
              "      <th>Date</th>\n",
              "      <th></th>\n",
              "      <th></th>\n",
              "    </tr>\n",
              "  </thead>\n",
              "  <tbody>\n",
              "    <tr>\n",
              "      <th>2010-01-22</th>\n",
              "      <td>1000.000000</td>\n",
              "      <td>0.000000</td>\n",
              "    </tr>\n",
              "    <tr>\n",
              "      <th>2010-01-25</th>\n",
              "      <td>1000.000000</td>\n",
              "      <td>0.000000</td>\n",
              "    </tr>\n",
              "    <tr>\n",
              "      <th>2010-01-27</th>\n",
              "      <td>563.082031</td>\n",
              "      <td>436.917969</td>\n",
              "    </tr>\n",
              "    <tr>\n",
              "      <th>2010-01-28</th>\n",
              "      <td>563.082031</td>\n",
              "      <td>440.999939</td>\n",
              "    </tr>\n",
              "    <tr>\n",
              "      <th>2010-01-29</th>\n",
              "      <td>563.082031</td>\n",
              "      <td>444.847931</td>\n",
              "    </tr>\n",
              "    <tr>\n",
              "      <th>...</th>\n",
              "      <td>...</td>\n",
              "      <td>...</td>\n",
              "    </tr>\n",
              "    <tr>\n",
              "      <th>2013-01-07</th>\n",
              "      <td>1128.296204</td>\n",
              "      <td>0.000000</td>\n",
              "    </tr>\n",
              "    <tr>\n",
              "      <th>2013-01-08</th>\n",
              "      <td>1128.296204</td>\n",
              "      <td>0.000000</td>\n",
              "    </tr>\n",
              "    <tr>\n",
              "      <th>2013-01-09</th>\n",
              "      <td>1128.296204</td>\n",
              "      <td>0.000000</td>\n",
              "    </tr>\n",
              "    <tr>\n",
              "      <th>2013-01-10</th>\n",
              "      <td>1128.296204</td>\n",
              "      <td>0.000000</td>\n",
              "    </tr>\n",
              "    <tr>\n",
              "      <th>2013-01-11</th>\n",
              "      <td>1128.296204</td>\n",
              "      <td>0.000000</td>\n",
              "    </tr>\n",
              "  </tbody>\n",
              "</table>\n",
              "<p>736 rows × 2 columns</p>\n",
              "</div>"
            ],
            "text/plain": [
              "               leftover       stock\n",
              "Date                               \n",
              "2010-01-22  1000.000000    0.000000\n",
              "2010-01-25  1000.000000    0.000000\n",
              "2010-01-27   563.082031  436.917969\n",
              "2010-01-28   563.082031  440.999939\n",
              "2010-01-29   563.082031  444.847931\n",
              "...                 ...         ...\n",
              "2013-01-07  1128.296204    0.000000\n",
              "2013-01-08  1128.296204    0.000000\n",
              "2013-01-09  1128.296204    0.000000\n",
              "2013-01-10  1128.296204    0.000000\n",
              "2013-01-11  1128.296204    0.000000\n",
              "\n",
              "[736 rows x 2 columns]"
            ]
          },
          "metadata": {
            "tags": []
          },
          "execution_count": 42
        }
      ]
    },
    {
      "cell_type": "code",
      "metadata": {
        "id": "-ZD8oHbkQXJH",
        "colab_type": "code",
        "colab": {
          "base_uri": "https://localhost:8080/",
          "height": 295
        },
        "outputId": "ca950fd4-4def-4a53-905b-2c52351b566e"
      },
      "source": [
        "nav.sum(axis=1).plot()"
      ],
      "execution_count": 43,
      "outputs": [
        {
          "output_type": "execute_result",
          "data": {
            "text/plain": [
              "<matplotlib.axes._subplots.AxesSubplot at 0x7f283ad4cc50>"
            ]
          },
          "metadata": {
            "tags": []
          },
          "execution_count": 43
        },
        {
          "output_type": "display_data",
          "data": {
            "image/png": "[encoded data removed]",
            "text/plain": [
              "<Figure size 432x288 with 1 Axes>"
            ]
          },
          "metadata": {
            "tags": [],
            "needs_background": "light"
          }
        }
      ]
    },
    {
      "cell_type": "code",
      "metadata": {
        "id": "QTO4DbXfqQ_2",
        "colab_type": "code",
        "colab": {}
      },
      "source": [
        "def read_data(stock_list, days):\n",
        "  df = pd.DataFrame()\n",
        "  for ticker in stock_list:\n",
        "    df[ticker] = data.DataReader(ticker,'yahoo',start='1/1/2010')['Adj Close']\n",
        "  return df.head(days)"
      ],
      "execution_count": 29,
      "outputs": []
    },
    {
      "cell_type": "code",
      "metadata": {
        "id": "rS01h-M5njp8",
        "colab_type": "code",
        "colab": {}
      },
      "source": [
        "\n",
        "# def BollBnd(Df,n):\n",
        "#     df = Df.copy()\n",
        "    \n",
        "#     df['MA'] = df['Adj Close'].rolling(n).mean()\n",
        "#     df['BB_up'] = df['Adj Close'].rolling(n).mean() + 2*df['MA'].rolling(n).std()\n",
        "#     df['BB_dn'] = df['Adj Close'].rolling(n).mean() - 2*df['MA'].rolling(n).std()\n",
        "#     df['BB_Width'] = df['BB_up'] - df['BB_dn']\n",
        "#     df.dropna(inplace=True)\n",
        "#     return df"
      ],
      "execution_count": 30,
      "outputs": []
    },
    {
      "cell_type": "code",
      "metadata": {
        "id": "0TgPs8j8nk54",
        "colab_type": "code",
        "colab": {}
      },
      "source": [
        "def RSI(price_data):\n",
        "  delta = price_data.diff()\n",
        "  up, down = delta.copy(), delta.copy()\n",
        "  up[up < 0] = 0\n",
        "  down[down > 0] = 0\n",
        "  \n",
        "  roll_up = up.mean()\n",
        "  roll_down = down.abs().mean()\n",
        "\n",
        "  RS = roll_up / roll_down\n",
        "  RSI = (100.0 - (100.0 / (1.0 + RS)))[0]\n",
        "  \n",
        "  if(RSI > 70): return -1\n",
        "  elif(RSI < 30): return 1\n",
        "  else: return 0"
      ],
      "execution_count": 40,
      "outputs": []
    },
    {
      "cell_type": "code",
      "metadata": {
        "id": "dgajGfD1CW4q",
        "colab_type": "code",
        "colab": {}
      },
      "source": [
        ""
      ],
      "execution_count": null,
      "outputs": []
    }
  ]
}